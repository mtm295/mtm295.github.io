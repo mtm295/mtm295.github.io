{
 "cells": [
  {
   "cell_type": "markdown",
   "metadata": {},
   "source": [
    "<h1><center> Analysis of Zipf's Law through analysis of summarization </center></h1>\n",
    "\n",
    "<h2><center> Authors: Martin McCarley & Ankur Sahoo </center></h2>\n",
    "<h3><center> CMSC320: Data Science </center></h3>"
   ]
  },
  {
   "cell_type": "markdown",
   "metadata": {},
   "source": [
    "### Purpose"
   ]
  },
  {
   "cell_type": "markdown",
   "metadata": {},
   "source": [
    "   The purpose of this project is to demonstrate the steps within the data science pipeline: Data Collection, Data Processing; Exploratory Analysis & Data Visualization; Analysis,Hypothesis Testing & Machine Learning; and Insight & Policy Decision. In this project we gather large blocks of text, in web(HTML) form, and analyze the words that occur and their number of occurances. The mysterious property that language tends to lend itself to, Zipf's Law, shows that the frequency of word occurance is almost always logrithmic. This has been theorized to be a result of how humans have evolved to explain the world around them in a format that is both easy to interpret, yet descriptive enough to the reciever of the information and easy enough to convey as the dissimnator of the information. \n",
    "    \n",
    "   We hope that by analayzing word frequency and the words least commonly used, we can attempt to construct a broad summary of the text. The summary that will be output is at least one word and is compared against synonyms and other related words, in respect to the words that make up the title to see how closely the generated summary matches the article."
   ]
  },
  {
   "cell_type": "markdown",
   "metadata": {},
   "source": [
    "### Table of Contents:\n",
    "\n",
    "1. [Introduction to Zipf's Law](#intro)\n",
    " \n",
    " \n",
    "2. [Data Science Pipeline](#pipeline)\n",
    "    - [Data Collection](#collect)\n",
    "    - [Data Processing](#process)\n",
    "    - [Exploratory Analysis](#eda)\n",
    "    - [Data Visualization](#viz)\n",
    "    - [Analysis](#analyze)\n",
    "    - [Hypothesis Creation](#hypothesize)\n",
    "    - [Hypothesis Testing](#test)\n",
    "    - [Machine Learning](#ml)\n",
    "    - [Insight & Policy Decision](#insight)\n",
    " \n",
    " \n",
    "3. [Conclusions](#conclusions)"
   ]
  },
  {
   "cell_type": "markdown",
   "metadata": {},
   "source": [
    "### Introduction to Zipf's Law"
   ]
  },
  {
   "cell_type": "markdown",
   "metadata": {},
   "source": [
    "Zipf's law is an empirical law that is formulated using mathematical statistics. It states that if you are given a large sample of words, and you have a count of the number of occurences for all the words, the frequency of any word is inversely proportional to its rank in the frequency table.\n",
    "\n",
    "So if you look at a word \"n\", that work has a frequeny proportional to 1/n. So due to this, the word that has the most occurences will occur approximately twice as often as the word with the second most frequent word, three times as often as the third word, and so on. As you go from words with the most frequencies to \n",
    "the words with the least frequency, the occurences will decline exponentially with word length. The theory is that the rank distribution arises naturally out of the fact that word length plays a part. Long words tend not to be very common, while shorter words are. It is easy to see how this has occurred in the evolution of language."
   ]
  },
  {
   "cell_type": "markdown",
   "metadata": {},
   "source": [
    "## Data Pipeline"
   ]
  },
  {
   "cell_type": "markdown",
   "metadata": {},
   "source": [
    "### Data Collection"
   ]
  },
  {
   "cell_type": "markdown",
   "metadata": {},
   "source": [
    "The first process in the data science pipeline is to collect the data that is necessary in the computations defined by your hypothesis. To collect the data we used article driven websites focused on specific topics within an individual domain as to avoid ambiguity in summarization."
   ]
  },
  {
   "cell_type": "code",
   "execution_count": 299,
   "metadata": {},
   "outputs": [],
   "source": [
    "# Imports needed in the Data Collection process\n",
    "import requests\n",
    "from bs4 import BeautifulSoup\n",
    "from string import punctuation\n",
    "from collections import Counter"
   ]
  },
  {
   "cell_type": "markdown",
   "metadata": {},
   "source": [
    "For each website that was used as a source for testing data we created a parser for that website to avoid the nuances of webpage styles."
   ]
  },
  {
   "cell_type": "code",
   "execution_count": 300,
   "metadata": {},
   "outputs": [],
   "source": [
    "# https://www.dissentmagazine.org/article/the-new-tech-culture-wars\n",
    "\n",
    "# This function defines how to scrape the web article from www.dissentmagazine.org\n",
    "# Input: \n",
    "#  The function takes in the full url or the portion of the url that comes after the web domain.\n",
    "#   For example the input argument would be /article/the-new-tech-culture-wars for the article\n",
    "#   at https://www.dissentmagazine.org/article/the-new-tech-culture-wars\n",
    "# Output:\n",
    "#  The function returns a tuple containing a dictionary of the words in the body of the article \n",
    "#   and the number of occurances for each word.\n",
    "def parse_dissentmagazine(url):\n",
    "    \n",
    "    # The dissent magazine web domain URL\n",
    "    dissent_magazine_base_url = 'https://www.dissentmagazine.org'\n",
    "    \n",
    "    # Raises an error if the homepage is passed in\n",
    "    if url == dissent_magazine_base_url:\n",
    "        raise('Invalid Article')\n",
    "    \n",
    "    # Generates the url to request from using the input full url or url portion\n",
    "    if dissent_magazine_base_url in url: # Checks if input is full url\n",
    "        request_url = url # Sets request url equal to the full  url\n",
    "    else:\n",
    "        need_slash = '/' if url[0] != '/' else '' # Checks if the partial url contains a leading forward slash\n",
    "        request_url = dissent_magazine_base_url + need_slash + url # Builds the full url and sets request url to it\n",
    "        \n",
    "    \n",
    "    request = requests.get(request_url) # Requests the article page\n",
    "    soup = BeautifulSoup(request.content) # Parses the HTML file using Beautiful Soup\n",
    "    \n",
    "    # Grabs the article\n",
    "    article = soup.find(id='article') # Grabs the article container tag\n",
    "    \n",
    "    # Grabs the article title from the header tag within the container\n",
    "    article_title = article.find('header').find('h1').find(text=True).strip()\n",
    "    \n",
    "    # Grabs all of the text within the article \n",
    "    article_text = ''\n",
    "    for noodle in article.findAll('p'):\n",
    "        article_text += ' '.join(noodle.findAll(text=True))\n",
    "\n",
    "    # Cleans up the text by spliting every word, removing punctuation and changing all words to lower case\n",
    "    clean_article_text = []\n",
    "    for line in article_text.split():\n",
    "        for word in line.split('.'):\n",
    "            for clean_word in word.split('-'):\n",
    "                for cw in clean_word.split('—'):\n",
    "                    clean_article_text.append(cw.strip(punctuation).lower())\n",
    "    \n",
    "    # Filters out punctuation from the word list\n",
    "    retdict = []\n",
    "    for c in clean_article_text:\n",
    "        word = c.strip(punctuation) \n",
    "        if not word in punctuation:\n",
    "            retdict.append(word)\n",
    "    \n",
    "    # Converts the cleaned result to a dictionary\n",
    "    retdict = dict(Counter(retdict))\n",
    "    \n",
    "    return (article_title, retdict)"
   ]
  },
  {
   "cell_type": "markdown",
   "metadata": {},
   "source": [
    "### Data Processing (Data Cleaning)"
   ]
  },
  {
   "cell_type": "markdown",
   "metadata": {},
   "source": [
    "In the Data Processing step we put the article data, a dictionary containing the words found in the article and the frequency at which they occured, into a DataFrame and tidy it. In addition, we create an article_stats DataFrame, which is populated with values computed from the data to be further analyzed in the Exploratory Analysis step. "
   ]
  },
  {
   "cell_type": "markdown",
   "metadata": {},
   "source": [
    "#### Imports"
   ]
  },
  {
   "cell_type": "code",
   "execution_count": 301,
   "metadata": {},
   "outputs": [],
   "source": [
    "# Import Libraries for Data processing\n",
    "import pandas as pd # A powerful data structure library\n",
    "import numpy as np # A powerful scientific library"
   ]
  },
  {
   "cell_type": "markdown",
   "metadata": {},
   "source": [
    "#### Functions"
   ]
  },
  {
   "cell_type": "markdown",
   "metadata": {},
   "source": [
    "Function: frequency_greater_than\n",
    "\n",
    "Description: Counts how many words in the given Dataframe were used more than the given number, x, times\n",
    "\n",
    "Input:\n",
    " - *df*:  an article DataFrame\n",
    " - *x*:  a scalar numerical value\n",
    " \n",
    "Output:\n",
    " - *df*:  an article DataFrame, equivalent to mapping frequency >= x across every value in the 'Frequency' column of                the article DataFrame\n",
    " - *count*:  an Integer Series, representing the number of True and False values in mapped"
   ]
  },
  {
   "cell_type": "code",
   "execution_count": 302,
   "metadata": {},
   "outputs": [],
   "source": [
    "def frequency_greater_than(df, x):\n",
    "    \n",
    "    # Creates a series that maps the result of frequency >= x\n",
    "    df['gtAWF'] = df['Frequency'].gt(x)\n",
    "    \n",
    "    # Creates a Series summing the number of occurances\n",
    "    count = df['gtAWF'].value_counts()\n",
    "\n",
    "    # Returns the Series and the count \n",
    "    return df, count"
   ]
  },
  {
   "cell_type": "markdown",
   "metadata": {},
   "source": [
    " "
   ]
  },
  {
   "cell_type": "markdown",
   "metadata": {},
   "source": [
    "Function: weight_greater_than\n",
    "\n",
    "Decription: Counts how many words in the given Dataframe have more weight than the given number, x, times\n",
    "\n",
    "Input:\n",
    " - *df*: an article DataFrame\n",
    " - *twc*: an integer, the total word count of the given article\n",
    " - *x*: a scalar numerical value\n",
    "\n",
    "Output:\n",
    " - *df*: the given article DataFrame, populated with Overall and Individual Weight columns\n",
    " - *count*: an Integer Series, representing the number of True and False values in overall_mapped"
   ]
  },
  {
   "cell_type": "code",
   "execution_count": 303,
   "metadata": {},
   "outputs": [],
   "source": [
    "def weight_greater_than(df, twc, x):\n",
    "    \n",
    "    # Creates the 'Overall' Weight column\n",
    "    df['Overall Weight'] = df['Frequency'] / twc\n",
    "    \n",
    "    overall_mapped = df['Overall Weight'].gt(x)\n",
    "    \n",
    "    # Creates a Series summing the number of occurances\n",
    "    count = overall_mapped.value_counts()\n",
    "\n",
    "    # Returns the Series and the count \n",
    "    return df, count"
   ]
  },
  {
   "cell_type": "markdown",
   "metadata": {},
   "source": [
    " "
   ]
  },
  {
   "cell_type": "markdown",
   "metadata": {},
   "source": [
    "Function: create_article_df\n",
    "\n",
    "Description: Given a Dataframe(df) and a dict(data): populates the DataFrame, sorts the values descending by the 'Frequency', and creates a 'Rank' column, ranking each Frequency in descending order.\n",
    "\n",
    "Input:\n",
    " - *df*: an empty DataFrame\n",
    " - *data*: a dictionary, in form, { 'word1': frequency1, ..., 'wordn': frequencyn\n",
    "\n",
    "Output:\n",
    " - *df*: the given DataFrame populated using the passed in data"
   ]
  },
  {
   "cell_type": "code",
   "execution_count": 304,
   "metadata": {},
   "outputs": [],
   "source": [
    "def create_article_df(df, data):\n",
    "    \n",
    "    df['Word'] = data.keys() # Creates a 'Word' column using the keys of the given data\n",
    "    df['Frequency'] = data.values() # Creates a 'Frequency' column using the values of the given data\n",
    "    \n",
    "    # Sorts the Dataframe by the values in the 'Frequency' column in descending order\n",
    "    df.sort_values(by='Frequency',inplace=True,ascending=False)\n",
    "\n",
    "    # Creates a 'Rank' column, which ranks each frequency in decending order\n",
    "    df['Rank'] = df['Frequency'].rank(ascending=False)\n",
    "    \n",
    "    # Resets the index of the DataFrame and drops the old index values\n",
    "    df.reset_index(drop=True, inplace=True)\n",
    "    \n",
    "    return df"
   ]
  },
  {
   "cell_type": "markdown",
   "metadata": {},
   "source": [
    " "
   ]
  },
  {
   "cell_type": "markdown",
   "metadata": {},
   "source": [
    "Function: compute_article_stats\n",
    "\n",
    "Description: Computes different statistics about the article from the given article DataFrame\n",
    "\n",
    "Input:\n",
    " - *df*: an article DataFrame\n",
    " - *title*: a string, representing the article's title\n",
    "\n",
    "Output:\n",
    " - *df*: the article DataFrame, populated with calculated information\\\n",
    " - *stats*: a Series, containing the given article's stats\n",
    "     - Unique Word Count (UWC)\n",
    "     - Total Word Count (TWC)\n",
    "     - Average Word Frequency (AWF)\n",
    "     - \\# of Words with Frequency > AWF (gtAWF)\n",
    "     - \\# of Words with Frequency <= AWF (leAWF)\n",
    "     - % of Words with Frequency > AWF (gtAWF%)\n",
    "     - % of Words with Frequency <= AWF (leAWF%)\n",
    "     - Average Word Weight (AWW)\n",
    "     - \\# of Words with Word Weight > AWW (gtAWW)\n",
    "     - \\# of Words with Word Weight <= AWW (leAWW)\n",
    "     - % of Words with Word Weight > AWW (gtAWW%)\n",
    "     - % of Words with Word Weight <= AWW (leAWW%)"
   ]
  },
  {
   "cell_type": "code",
   "execution_count": 305,
   "metadata": {},
   "outputs": [],
   "source": [
    "# Input: an article Dataframe\n",
    "# Ouput: a Series, containing the article's stats\n",
    "def compute_article_stats(df, title):\n",
    "    \n",
    "    # Computes the unique word count by grabbing the number of rows in the DataFrame\n",
    "    article_uwc = df.shape[0]\n",
    "    \n",
    "    # Computes the total word count by summing all the frequencies of the 'Frequency' column\n",
    "    article_twc = df['Frequency'].sum()\n",
    "    \n",
    "    # Computes average word frequency\n",
    "    article_awf = article_twc / article_uwc\n",
    "    \n",
    "    # Computes the count of words that occur more than the average word frequency\n",
    "    article_gtawf = frequency_greater_than(df, article_awf)[1][True]\n",
    "    \n",
    "    # Computes the count of words that occur less than or equal to the average word frequency\n",
    "    article_leawf = frequency_greater_than(df, article_awf)[1][False]\n",
    "    \n",
    "    # Computes the percent of words that occur more than the average word frequency\n",
    "    article_gtawf_percent = (article_gtawf / article_uwc) * 100\n",
    "    \n",
    "    # Computes the percent of word that occur less than or equal to the average word frequency\n",
    "    article_leawf_percent = (article_leawf / article_uwc) * 100\n",
    "    \n",
    "    # Computes the average unique word weight\n",
    "    article_aww = np.array([x / article_uwc for x in (df['Frequency'] / article_twc)]).sum()\n",
    "    \n",
    "    # Computes the count of words that have weight greater than the average word weight\n",
    "    # Computes the count of words that have weight less than or equal to the average word weight\n",
    "    df, article_aww_count = weight_greater_than(df, article_twc, article_aww)\n",
    "    article_gtaww, article_leaww = article_aww_count[True], article_aww_count[False]\n",
    "    \n",
    "    # Computes the percent of words that have weight greater than the average word weight\n",
    "    article_gtaww_percent = (article_gtaww / article_uwc) * 100\n",
    "    \n",
    "    # Computes the percent of words that have weight less than or equal to the average word weight\n",
    "    article_leaww_percent = (article_leaww / article_uwc) * 100\n",
    "    \n",
    "    # Creates stats Series\n",
    "    stats = pd.Series(data={'UWC': article_uwc, 'TWC': article_twc, 'AWF': article_awf, \n",
    "                            'gtAWF': article_gtawf, 'leAWF': article_leawf, 'gtAWF%': article_gtawf_percent, \n",
    "                            'leAWF%': article_leawf_percent, 'AWW': article_aww, 'gtAWW': article_gtaww,\n",
    "                            'leAWW': article_leaww, 'gtAWW%': article_gtaww_percent,'leAWW%': article_leaww_percent,})\n",
    "    \n",
    "    # Names the Series after the Article's Title\n",
    "    stats.name = title\n",
    "    \n",
    "    return df, stats"
   ]
  },
  {
   "cell_type": "markdown",
   "metadata": {},
   "source": [
    "####  Article Stats Creation"
   ]
  },
  {
   "cell_type": "code",
   "execution_count": 306,
   "metadata": {},
   "outputs": [],
   "source": [
    "# Create the Article Stats DataFrame\n",
    "article_stats = pd.DataFrame()"
   ]
  },
  {
   "cell_type": "markdown",
   "metadata": {},
   "source": [
    "####  Article One: The New Tech Culture Wars"
   ]
  },
  {
   "cell_type": "code",
   "execution_count": 307,
   "metadata": {},
   "outputs": [],
   "source": [
    "# Scrape the given webpage, using the parser\n",
    "article1_title, article1_data = parse_dissentmagazine('https://www.dissentmagazine.org/article/the-new-tech-culture-wars')"
   ]
  },
  {
   "cell_type": "code",
   "execution_count": 308,
   "metadata": {
    "scrolled": true
   },
   "outputs": [],
   "source": [
    "# Creates the DataFrame to be populated with the article1_data\n",
    "article1_df = pd.DataFrame()\n",
    "\n",
    "# Using the article1_data, in the form of a dict containing the 'Word' as a key and the'Frequency' as a value,\n",
    "#  Creates the 'Word' and 'Frequency' columns\n",
    "# Populates the article1_df DataFrame with the article_data\n",
    "article1_df = create_article_df(article1_df, article1_data)\n",
    "\n",
    "# Computes the stats for article one \n",
    "article1_df, article1_stats = compute_article_stats(article1_df, article1_title)\n",
    "\n",
    "# Adds article1_stats to the article_stats DataFrame\n",
    "article_stats[article1_stats.name] = article1_stats"
   ]
  },
  {
   "cell_type": "markdown",
   "metadata": {},
   "source": [
    "##### Article One DataFrame"
   ]
  },
  {
   "cell_type": "code",
   "execution_count": 309,
   "metadata": {},
   "outputs": [
    {
     "data": {
      "text/html": [
       "<div>\n",
       "<style scoped>\n",
       "    .dataframe tbody tr th:only-of-type {\n",
       "        vertical-align: middle;\n",
       "    }\n",
       "\n",
       "    .dataframe tbody tr th {\n",
       "        vertical-align: top;\n",
       "    }\n",
       "\n",
       "    .dataframe thead th {\n",
       "        text-align: right;\n",
       "    }\n",
       "</style>\n",
       "<table border=\"1\" class=\"dataframe\">\n",
       "  <thead>\n",
       "    <tr style=\"text-align: right;\">\n",
       "      <th></th>\n",
       "      <th>Word</th>\n",
       "      <th>Frequency</th>\n",
       "      <th>Rank</th>\n",
       "      <th>gtAWF</th>\n",
       "      <th>Overall Weight</th>\n",
       "    </tr>\n",
       "  </thead>\n",
       "  <tbody>\n",
       "    <tr>\n",
       "      <td>0</td>\n",
       "      <td>the</td>\n",
       "      <td>278</td>\n",
       "      <td>1.0</td>\n",
       "      <td>True</td>\n",
       "      <td>0.064456</td>\n",
       "    </tr>\n",
       "    <tr>\n",
       "      <td>1</td>\n",
       "      <td>of</td>\n",
       "      <td>153</td>\n",
       "      <td>2.0</td>\n",
       "      <td>True</td>\n",
       "      <td>0.035474</td>\n",
       "    </tr>\n",
       "    <tr>\n",
       "      <td>2</td>\n",
       "      <td>to</td>\n",
       "      <td>126</td>\n",
       "      <td>3.0</td>\n",
       "      <td>True</td>\n",
       "      <td>0.029214</td>\n",
       "    </tr>\n",
       "    <tr>\n",
       "      <td>3</td>\n",
       "      <td>and</td>\n",
       "      <td>95</td>\n",
       "      <td>4.0</td>\n",
       "      <td>True</td>\n",
       "      <td>0.022026</td>\n",
       "    </tr>\n",
       "    <tr>\n",
       "      <td>4</td>\n",
       "      <td>in</td>\n",
       "      <td>85</td>\n",
       "      <td>5.0</td>\n",
       "      <td>True</td>\n",
       "      <td>0.019708</td>\n",
       "    </tr>\n",
       "    <tr>\n",
       "      <td>...</td>\n",
       "      <td>...</td>\n",
       "      <td>...</td>\n",
       "      <td>...</td>\n",
       "      <td>...</td>\n",
       "      <td>...</td>\n",
       "    </tr>\n",
       "    <tr>\n",
       "      <td>1571</td>\n",
       "      <td>influencers</td>\n",
       "      <td>1</td>\n",
       "      <td>1035.5</td>\n",
       "      <td>False</td>\n",
       "      <td>0.000232</td>\n",
       "    </tr>\n",
       "    <tr>\n",
       "      <td>1572</td>\n",
       "      <td>operators</td>\n",
       "      <td>1</td>\n",
       "      <td>1035.5</td>\n",
       "      <td>False</td>\n",
       "      <td>0.000232</td>\n",
       "    </tr>\n",
       "    <tr>\n",
       "      <td>1573</td>\n",
       "      <td>special</td>\n",
       "      <td>1</td>\n",
       "      <td>1035.5</td>\n",
       "      <td>False</td>\n",
       "      <td>0.000232</td>\n",
       "    </tr>\n",
       "    <tr>\n",
       "      <td>1574</td>\n",
       "      <td>mobilization</td>\n",
       "      <td>1</td>\n",
       "      <td>1035.5</td>\n",
       "      <td>False</td>\n",
       "      <td>0.000232</td>\n",
       "    </tr>\n",
       "    <tr>\n",
       "      <td>1575</td>\n",
       "      <td>newsletter</td>\n",
       "      <td>1</td>\n",
       "      <td>1035.5</td>\n",
       "      <td>False</td>\n",
       "      <td>0.000232</td>\n",
       "    </tr>\n",
       "  </tbody>\n",
       "</table>\n",
       "<p>1576 rows × 5 columns</p>\n",
       "</div>"
      ],
      "text/plain": [
       "              Word  Frequency    Rank  gtAWF  Overall Weight\n",
       "0              the        278     1.0   True        0.064456\n",
       "1               of        153     2.0   True        0.035474\n",
       "2               to        126     3.0   True        0.029214\n",
       "3              and         95     4.0   True        0.022026\n",
       "4               in         85     5.0   True        0.019708\n",
       "...            ...        ...     ...    ...             ...\n",
       "1571   influencers          1  1035.5  False        0.000232\n",
       "1572     operators          1  1035.5  False        0.000232\n",
       "1573       special          1  1035.5  False        0.000232\n",
       "1574  mobilization          1  1035.5  False        0.000232\n",
       "1575    newsletter          1  1035.5  False        0.000232\n",
       "\n",
       "[1576 rows x 5 columns]"
      ]
     },
     "execution_count": 309,
     "metadata": {},
     "output_type": "execute_result"
    }
   ],
   "source": [
    "article1_df"
   ]
  },
  {
   "cell_type": "markdown",
   "metadata": {},
   "source": [
    "##### Article One Stats"
   ]
  },
  {
   "cell_type": "code",
   "execution_count": 310,
   "metadata": {},
   "outputs": [
    {
     "data": {
      "text/plain": [
       "UWC       1576.000000\n",
       "TWC       4313.000000\n",
       "AWF          2.736675\n",
       "gtAWF      268.000000\n",
       "leAWF     1308.000000\n",
       "gtAWF%      17.005076\n",
       "leAWF%      82.994924\n",
       "AWW          0.000635\n",
       "gtAWW      268.000000\n",
       "leAWW     1308.000000\n",
       "gtAWW%      17.005076\n",
       "leAWW%      82.994924\n",
       "Name: The New Tech Culture Wars, dtype: float64"
      ]
     },
     "execution_count": 310,
     "metadata": {},
     "output_type": "execute_result"
    }
   ],
   "source": [
    "article1_stats"
   ]
  },
  {
   "cell_type": "markdown",
   "metadata": {},
   "source": [
    "#### Article Two: Water Democracy"
   ]
  },
  {
   "cell_type": "code",
   "execution_count": 311,
   "metadata": {},
   "outputs": [],
   "source": [
    "# Scrape the given webpage, using the parser\n",
    "article2_title, article2_data = parse_dissentmagazine('https://www.dissentmagazine.org/online_articles/water-democracy')"
   ]
  },
  {
   "cell_type": "code",
   "execution_count": 312,
   "metadata": {},
   "outputs": [],
   "source": [
    "# Creates the DataFrame to be populated with the article1_data\n",
    "article2_df = pd.DataFrame()\n",
    "\n",
    "# Using the article1_data, in the form of a dict containing the 'Word' as a key and the'Frequency' as a value,\n",
    "#  Creates the 'Word' and 'Frequency' columns\n",
    "# Populates the article1_df DataFrame with the article_data\n",
    "article2_df = create_article_df(article2_df, article2_data)\n",
    "\n",
    "# Computes the stats for article one \n",
    "article2_df, article2_stats = compute_article_stats(article2_df, article2_title)\n",
    "\n",
    "# Adds article1_stats to the article_stats DataFrame\n",
    "article_stats[article2_stats.name] = article2_stats"
   ]
  },
  {
   "cell_type": "markdown",
   "metadata": {},
   "source": [
    "##### Article Two DataFrame"
   ]
  },
  {
   "cell_type": "code",
   "execution_count": 313,
   "metadata": {},
   "outputs": [
    {
     "data": {
      "text/html": [
       "<div>\n",
       "<style scoped>\n",
       "    .dataframe tbody tr th:only-of-type {\n",
       "        vertical-align: middle;\n",
       "    }\n",
       "\n",
       "    .dataframe tbody tr th {\n",
       "        vertical-align: top;\n",
       "    }\n",
       "\n",
       "    .dataframe thead th {\n",
       "        text-align: right;\n",
       "    }\n",
       "</style>\n",
       "<table border=\"1\" class=\"dataframe\">\n",
       "  <thead>\n",
       "    <tr style=\"text-align: right;\">\n",
       "      <th></th>\n",
       "      <th>Word</th>\n",
       "      <th>Frequency</th>\n",
       "      <th>Rank</th>\n",
       "      <th>gtAWF</th>\n",
       "      <th>Overall Weight</th>\n",
       "    </tr>\n",
       "  </thead>\n",
       "  <tbody>\n",
       "    <tr>\n",
       "      <td>0</td>\n",
       "      <td>the</td>\n",
       "      <td>332</td>\n",
       "      <td>1.0</td>\n",
       "      <td>True</td>\n",
       "      <td>0.070488</td>\n",
       "    </tr>\n",
       "    <tr>\n",
       "      <td>1</td>\n",
       "      <td>of</td>\n",
       "      <td>162</td>\n",
       "      <td>2.0</td>\n",
       "      <td>True</td>\n",
       "      <td>0.034395</td>\n",
       "    </tr>\n",
       "    <tr>\n",
       "      <td>2</td>\n",
       "      <td>to</td>\n",
       "      <td>143</td>\n",
       "      <td>3.0</td>\n",
       "      <td>True</td>\n",
       "      <td>0.030361</td>\n",
       "    </tr>\n",
       "    <tr>\n",
       "      <td>3</td>\n",
       "      <td>a</td>\n",
       "      <td>122</td>\n",
       "      <td>4.0</td>\n",
       "      <td>True</td>\n",
       "      <td>0.025902</td>\n",
       "    </tr>\n",
       "    <tr>\n",
       "      <td>4</td>\n",
       "      <td>in</td>\n",
       "      <td>95</td>\n",
       "      <td>5.0</td>\n",
       "      <td>True</td>\n",
       "      <td>0.020170</td>\n",
       "    </tr>\n",
       "    <tr>\n",
       "      <td>...</td>\n",
       "      <td>...</td>\n",
       "      <td>...</td>\n",
       "      <td>...</td>\n",
       "      <td>...</td>\n",
       "      <td>...</td>\n",
       "    </tr>\n",
       "    <tr>\n",
       "      <td>1744</td>\n",
       "      <td>bullet</td>\n",
       "      <td>1</td>\n",
       "      <td>1143.0</td>\n",
       "      <td>False</td>\n",
       "      <td>0.000212</td>\n",
       "    </tr>\n",
       "    <tr>\n",
       "      <td>1745</td>\n",
       "      <td>dozens</td>\n",
       "      <td>1</td>\n",
       "      <td>1143.0</td>\n",
       "      <td>False</td>\n",
       "      <td>0.000212</td>\n",
       "    </tr>\n",
       "    <tr>\n",
       "      <td>1746</td>\n",
       "      <td>empty</td>\n",
       "      <td>1</td>\n",
       "      <td>1143.0</td>\n",
       "      <td>False</td>\n",
       "      <td>0.000212</td>\n",
       "    </tr>\n",
       "    <tr>\n",
       "      <td>1747</td>\n",
       "      <td>hill</td>\n",
       "      <td>1</td>\n",
       "      <td>1143.0</td>\n",
       "      <td>False</td>\n",
       "      <td>0.000212</td>\n",
       "    </tr>\n",
       "    <tr>\n",
       "      <td>1748</td>\n",
       "      <td>newsletter</td>\n",
       "      <td>1</td>\n",
       "      <td>1143.0</td>\n",
       "      <td>False</td>\n",
       "      <td>0.000212</td>\n",
       "    </tr>\n",
       "  </tbody>\n",
       "</table>\n",
       "<p>1749 rows × 5 columns</p>\n",
       "</div>"
      ],
      "text/plain": [
       "            Word  Frequency    Rank  gtAWF  Overall Weight\n",
       "0            the        332     1.0   True        0.070488\n",
       "1             of        162     2.0   True        0.034395\n",
       "2             to        143     3.0   True        0.030361\n",
       "3              a        122     4.0   True        0.025902\n",
       "4             in         95     5.0   True        0.020170\n",
       "...          ...        ...     ...    ...             ...\n",
       "1744      bullet          1  1143.0  False        0.000212\n",
       "1745      dozens          1  1143.0  False        0.000212\n",
       "1746       empty          1  1143.0  False        0.000212\n",
       "1747        hill          1  1143.0  False        0.000212\n",
       "1748  newsletter          1  1143.0  False        0.000212\n",
       "\n",
       "[1749 rows x 5 columns]"
      ]
     },
     "execution_count": 313,
     "metadata": {},
     "output_type": "execute_result"
    }
   ],
   "source": [
    "article2_df"
   ]
  },
  {
   "cell_type": "markdown",
   "metadata": {},
   "source": [
    "##### Article Two Stats"
   ]
  },
  {
   "cell_type": "code",
   "execution_count": 314,
   "metadata": {},
   "outputs": [
    {
     "data": {
      "text/html": [
       "<div>\n",
       "<style scoped>\n",
       "    .dataframe tbody tr th:only-of-type {\n",
       "        vertical-align: middle;\n",
       "    }\n",
       "\n",
       "    .dataframe tbody tr th {\n",
       "        vertical-align: top;\n",
       "    }\n",
       "\n",
       "    .dataframe thead th {\n",
       "        text-align: right;\n",
       "    }\n",
       "</style>\n",
       "<table border=\"1\" class=\"dataframe\">\n",
       "  <thead>\n",
       "    <tr style=\"text-align: right;\">\n",
       "      <th></th>\n",
       "      <th>The New Tech Culture Wars</th>\n",
       "      <th>Water Democracy</th>\n",
       "    </tr>\n",
       "  </thead>\n",
       "  <tbody>\n",
       "    <tr>\n",
       "      <td>UWC</td>\n",
       "      <td>1576.000000</td>\n",
       "      <td>1749.000000</td>\n",
       "    </tr>\n",
       "    <tr>\n",
       "      <td>TWC</td>\n",
       "      <td>4313.000000</td>\n",
       "      <td>4710.000000</td>\n",
       "    </tr>\n",
       "    <tr>\n",
       "      <td>AWF</td>\n",
       "      <td>2.736675</td>\n",
       "      <td>2.692967</td>\n",
       "    </tr>\n",
       "    <tr>\n",
       "      <td>gtAWF</td>\n",
       "      <td>268.000000</td>\n",
       "      <td>294.000000</td>\n",
       "    </tr>\n",
       "    <tr>\n",
       "      <td>leAWF</td>\n",
       "      <td>1308.000000</td>\n",
       "      <td>1455.000000</td>\n",
       "    </tr>\n",
       "    <tr>\n",
       "      <td>gtAWF%</td>\n",
       "      <td>17.005076</td>\n",
       "      <td>16.809605</td>\n",
       "    </tr>\n",
       "    <tr>\n",
       "      <td>leAWF%</td>\n",
       "      <td>82.994924</td>\n",
       "      <td>83.190395</td>\n",
       "    </tr>\n",
       "    <tr>\n",
       "      <td>AWW</td>\n",
       "      <td>0.000635</td>\n",
       "      <td>0.000572</td>\n",
       "    </tr>\n",
       "    <tr>\n",
       "      <td>gtAWW</td>\n",
       "      <td>268.000000</td>\n",
       "      <td>294.000000</td>\n",
       "    </tr>\n",
       "    <tr>\n",
       "      <td>leAWW</td>\n",
       "      <td>1308.000000</td>\n",
       "      <td>1455.000000</td>\n",
       "    </tr>\n",
       "    <tr>\n",
       "      <td>gtAWW%</td>\n",
       "      <td>17.005076</td>\n",
       "      <td>16.809605</td>\n",
       "    </tr>\n",
       "    <tr>\n",
       "      <td>leAWW%</td>\n",
       "      <td>82.994924</td>\n",
       "      <td>83.190395</td>\n",
       "    </tr>\n",
       "  </tbody>\n",
       "</table>\n",
       "</div>"
      ],
      "text/plain": [
       "        The New Tech Culture Wars  Water Democracy\n",
       "UWC                   1576.000000      1749.000000\n",
       "TWC                   4313.000000      4710.000000\n",
       "AWF                      2.736675         2.692967\n",
       "gtAWF                  268.000000       294.000000\n",
       "leAWF                 1308.000000      1455.000000\n",
       "gtAWF%                  17.005076        16.809605\n",
       "leAWF%                  82.994924        83.190395\n",
       "AWW                      0.000635         0.000572\n",
       "gtAWW                  268.000000       294.000000\n",
       "leAWW                 1308.000000      1455.000000\n",
       "gtAWW%                  17.005076        16.809605\n",
       "leAWW%                  82.994924        83.190395"
      ]
     },
     "execution_count": 314,
     "metadata": {},
     "output_type": "execute_result"
    }
   ],
   "source": [
    "article_stats"
   ]
  },
  {
   "cell_type": "markdown",
   "metadata": {},
   "source": [
    "#### Article Three: Design for a Green Future"
   ]
  },
  {
   "cell_type": "code",
   "execution_count": 315,
   "metadata": {},
   "outputs": [],
   "source": [
    "# Scrape the given webpage, using the parser\n",
    "article3_title, article3_data = parse_dissentmagazine('https://www.dissentmagazine.org/article/design-for-a-green-future')"
   ]
  },
  {
   "cell_type": "code",
   "execution_count": 316,
   "metadata": {},
   "outputs": [],
   "source": [
    "# Creates the DataFrame to be populated with the article1_data\n",
    "article3_df = pd.DataFrame()\n",
    "\n",
    "# Using the article1_data, in the form of a dict containing the 'Word' as a key and the'Frequency' as a value,\n",
    "#  Creates the 'Word' and 'Frequency' columns\n",
    "# Populates the article1_df DataFrame with the article_data\n",
    "article3_df = create_article_df(article3_df, article3_data)\n",
    "\n",
    "# Computes the stats for article one \n",
    "article3_df, article3_stats = compute_article_stats(article3_df, article3_title)\n",
    "\n",
    "# Adds article1_stats to the article_stats DataFrame\n",
    "article_stats[article3_stats.name] = article3_stats"
   ]
  },
  {
   "cell_type": "markdown",
   "metadata": {},
   "source": [
    "##### Article Three DataFrame"
   ]
  },
  {
   "cell_type": "code",
   "execution_count": 317,
   "metadata": {},
   "outputs": [
    {
     "data": {
      "text/html": [
       "<div>\n",
       "<style scoped>\n",
       "    .dataframe tbody tr th:only-of-type {\n",
       "        vertical-align: middle;\n",
       "    }\n",
       "\n",
       "    .dataframe tbody tr th {\n",
       "        vertical-align: top;\n",
       "    }\n",
       "\n",
       "    .dataframe thead th {\n",
       "        text-align: right;\n",
       "    }\n",
       "</style>\n",
       "<table border=\"1\" class=\"dataframe\">\n",
       "  <thead>\n",
       "    <tr style=\"text-align: right;\">\n",
       "      <th></th>\n",
       "      <th>Word</th>\n",
       "      <th>Frequency</th>\n",
       "      <th>Rank</th>\n",
       "      <th>gtAWF</th>\n",
       "      <th>Overall Weight</th>\n",
       "    </tr>\n",
       "  </thead>\n",
       "  <tbody>\n",
       "    <tr>\n",
       "      <td>0</td>\n",
       "      <td>the</td>\n",
       "      <td>34</td>\n",
       "      <td>1.0</td>\n",
       "      <td>True</td>\n",
       "      <td>0.060606</td>\n",
       "    </tr>\n",
       "    <tr>\n",
       "      <td>1</td>\n",
       "      <td>and</td>\n",
       "      <td>27</td>\n",
       "      <td>2.0</td>\n",
       "      <td>True</td>\n",
       "      <td>0.048128</td>\n",
       "    </tr>\n",
       "    <tr>\n",
       "      <td>2</td>\n",
       "      <td>of</td>\n",
       "      <td>22</td>\n",
       "      <td>3.0</td>\n",
       "      <td>True</td>\n",
       "      <td>0.039216</td>\n",
       "    </tr>\n",
       "    <tr>\n",
       "      <td>3</td>\n",
       "      <td>a</td>\n",
       "      <td>14</td>\n",
       "      <td>4.0</td>\n",
       "      <td>True</td>\n",
       "      <td>0.024955</td>\n",
       "    </tr>\n",
       "    <tr>\n",
       "      <td>4</td>\n",
       "      <td>to</td>\n",
       "      <td>13</td>\n",
       "      <td>5.0</td>\n",
       "      <td>True</td>\n",
       "      <td>0.023173</td>\n",
       "    </tr>\n",
       "    <tr>\n",
       "      <td>...</td>\n",
       "      <td>...</td>\n",
       "      <td>...</td>\n",
       "      <td>...</td>\n",
       "      <td>...</td>\n",
       "      <td>...</td>\n",
       "    </tr>\n",
       "    <tr>\n",
       "      <td>322</td>\n",
       "      <td>absence</td>\n",
       "      <td>1</td>\n",
       "      <td>200.5</td>\n",
       "      <td>False</td>\n",
       "      <td>0.001783</td>\n",
       "    </tr>\n",
       "    <tr>\n",
       "      <td>323</td>\n",
       "      <td>given</td>\n",
       "      <td>1</td>\n",
       "      <td>200.5</td>\n",
       "      <td>False</td>\n",
       "      <td>0.001783</td>\n",
       "    </tr>\n",
       "    <tr>\n",
       "      <td>324</td>\n",
       "      <td>urbanists</td>\n",
       "      <td>1</td>\n",
       "      <td>200.5</td>\n",
       "      <td>False</td>\n",
       "      <td>0.001783</td>\n",
       "    </tr>\n",
       "    <tr>\n",
       "      <td>325</td>\n",
       "      <td>bruce</td>\n",
       "      <td>1</td>\n",
       "      <td>200.5</td>\n",
       "      <td>False</td>\n",
       "      <td>0.001783</td>\n",
       "    </tr>\n",
       "    <tr>\n",
       "      <td>326</td>\n",
       "      <td>newsletter</td>\n",
       "      <td>1</td>\n",
       "      <td>200.5</td>\n",
       "      <td>False</td>\n",
       "      <td>0.001783</td>\n",
       "    </tr>\n",
       "  </tbody>\n",
       "</table>\n",
       "<p>327 rows × 5 columns</p>\n",
       "</div>"
      ],
      "text/plain": [
       "           Word  Frequency   Rank  gtAWF  Overall Weight\n",
       "0           the         34    1.0   True        0.060606\n",
       "1           and         27    2.0   True        0.048128\n",
       "2            of         22    3.0   True        0.039216\n",
       "3             a         14    4.0   True        0.024955\n",
       "4            to         13    5.0   True        0.023173\n",
       "..          ...        ...    ...    ...             ...\n",
       "322     absence          1  200.5  False        0.001783\n",
       "323       given          1  200.5  False        0.001783\n",
       "324   urbanists          1  200.5  False        0.001783\n",
       "325       bruce          1  200.5  False        0.001783\n",
       "326  newsletter          1  200.5  False        0.001783\n",
       "\n",
       "[327 rows x 5 columns]"
      ]
     },
     "execution_count": 317,
     "metadata": {},
     "output_type": "execute_result"
    }
   ],
   "source": [
    "article3_df"
   ]
  },
  {
   "cell_type": "markdown",
   "metadata": {},
   "source": [
    "##### Article Three Stats"
   ]
  },
  {
   "cell_type": "code",
   "execution_count": 318,
   "metadata": {},
   "outputs": [
    {
     "data": {
      "text/html": [
       "<div>\n",
       "<style scoped>\n",
       "    .dataframe tbody tr th:only-of-type {\n",
       "        vertical-align: middle;\n",
       "    }\n",
       "\n",
       "    .dataframe tbody tr th {\n",
       "        vertical-align: top;\n",
       "    }\n",
       "\n",
       "    .dataframe thead th {\n",
       "        text-align: right;\n",
       "    }\n",
       "</style>\n",
       "<table border=\"1\" class=\"dataframe\">\n",
       "  <thead>\n",
       "    <tr style=\"text-align: right;\">\n",
       "      <th></th>\n",
       "      <th>The New Tech Culture Wars</th>\n",
       "      <th>Water Democracy</th>\n",
       "      <th>Design for a Green Future</th>\n",
       "    </tr>\n",
       "  </thead>\n",
       "  <tbody>\n",
       "    <tr>\n",
       "      <td>UWC</td>\n",
       "      <td>1576.000000</td>\n",
       "      <td>1749.000000</td>\n",
       "      <td>327.000000</td>\n",
       "    </tr>\n",
       "    <tr>\n",
       "      <td>TWC</td>\n",
       "      <td>4313.000000</td>\n",
       "      <td>4710.000000</td>\n",
       "      <td>561.000000</td>\n",
       "    </tr>\n",
       "    <tr>\n",
       "      <td>AWF</td>\n",
       "      <td>2.736675</td>\n",
       "      <td>2.692967</td>\n",
       "      <td>1.715596</td>\n",
       "    </tr>\n",
       "    <tr>\n",
       "      <td>gtAWF</td>\n",
       "      <td>268.000000</td>\n",
       "      <td>294.000000</td>\n",
       "      <td>73.000000</td>\n",
       "    </tr>\n",
       "    <tr>\n",
       "      <td>leAWF</td>\n",
       "      <td>1308.000000</td>\n",
       "      <td>1455.000000</td>\n",
       "      <td>254.000000</td>\n",
       "    </tr>\n",
       "    <tr>\n",
       "      <td>gtAWF%</td>\n",
       "      <td>17.005076</td>\n",
       "      <td>16.809605</td>\n",
       "      <td>22.324159</td>\n",
       "    </tr>\n",
       "    <tr>\n",
       "      <td>leAWF%</td>\n",
       "      <td>82.994924</td>\n",
       "      <td>83.190395</td>\n",
       "      <td>77.675841</td>\n",
       "    </tr>\n",
       "    <tr>\n",
       "      <td>AWW</td>\n",
       "      <td>0.000635</td>\n",
       "      <td>0.000572</td>\n",
       "      <td>0.003058</td>\n",
       "    </tr>\n",
       "    <tr>\n",
       "      <td>gtAWW</td>\n",
       "      <td>268.000000</td>\n",
       "      <td>294.000000</td>\n",
       "      <td>73.000000</td>\n",
       "    </tr>\n",
       "    <tr>\n",
       "      <td>leAWW</td>\n",
       "      <td>1308.000000</td>\n",
       "      <td>1455.000000</td>\n",
       "      <td>254.000000</td>\n",
       "    </tr>\n",
       "    <tr>\n",
       "      <td>gtAWW%</td>\n",
       "      <td>17.005076</td>\n",
       "      <td>16.809605</td>\n",
       "      <td>22.324159</td>\n",
       "    </tr>\n",
       "    <tr>\n",
       "      <td>leAWW%</td>\n",
       "      <td>82.994924</td>\n",
       "      <td>83.190395</td>\n",
       "      <td>77.675841</td>\n",
       "    </tr>\n",
       "  </tbody>\n",
       "</table>\n",
       "</div>"
      ],
      "text/plain": [
       "        The New Tech Culture Wars  Water Democracy  Design for a Green Future\n",
       "UWC                   1576.000000      1749.000000                 327.000000\n",
       "TWC                   4313.000000      4710.000000                 561.000000\n",
       "AWF                      2.736675         2.692967                   1.715596\n",
       "gtAWF                  268.000000       294.000000                  73.000000\n",
       "leAWF                 1308.000000      1455.000000                 254.000000\n",
       "gtAWF%                  17.005076        16.809605                  22.324159\n",
       "leAWF%                  82.994924        83.190395                  77.675841\n",
       "AWW                      0.000635         0.000572                   0.003058\n",
       "gtAWW                  268.000000       294.000000                  73.000000\n",
       "leAWW                 1308.000000      1455.000000                 254.000000\n",
       "gtAWW%                  17.005076        16.809605                  22.324159\n",
       "leAWW%                  82.994924        83.190395                  77.675841"
      ]
     },
     "execution_count": 318,
     "metadata": {},
     "output_type": "execute_result"
    }
   ],
   "source": [
    "article_stats"
   ]
  },
  {
   "cell_type": "markdown",
   "metadata": {},
   "source": [
    "**Quick nav**\n",
    "\n",
    "[Data Visualization](#viz), [Analysis](#analyze), [Hypothesis Creation](#hypothesize), [Hypothesis Testing](#test), [Machine Learning](#ml), [Insight & Policy Decision](#insight), [Conclusions](#conclusions)"
   ]
  },
  {
   "cell_type": "markdown",
   "metadata": {},
   "source": [
    "### Exploratory Analysis \n",
    "- [Understanding the article_stats](#edafunc)\n",
    "- [Article One](#article1)"
   ]
  },
  {
   "cell_type": "code",
   "execution_count": 319,
   "metadata": {
    "scrolled": true
   },
   "outputs": [
    {
     "data": {
      "text/html": [
       "<div>\n",
       "<style scoped>\n",
       "    .dataframe tbody tr th:only-of-type {\n",
       "        vertical-align: middle;\n",
       "    }\n",
       "\n",
       "    .dataframe tbody tr th {\n",
       "        vertical-align: top;\n",
       "    }\n",
       "\n",
       "    .dataframe thead th {\n",
       "        text-align: right;\n",
       "    }\n",
       "</style>\n",
       "<table border=\"1\" class=\"dataframe\">\n",
       "  <thead>\n",
       "    <tr style=\"text-align: right;\">\n",
       "      <th></th>\n",
       "      <th>The New Tech Culture Wars</th>\n",
       "      <th>Water Democracy</th>\n",
       "      <th>Design for a Green Future</th>\n",
       "    </tr>\n",
       "  </thead>\n",
       "  <tbody>\n",
       "    <tr>\n",
       "      <td>UWC</td>\n",
       "      <td>1576.000000</td>\n",
       "      <td>1749.000000</td>\n",
       "      <td>327.000000</td>\n",
       "    </tr>\n",
       "    <tr>\n",
       "      <td>TWC</td>\n",
       "      <td>4313.000000</td>\n",
       "      <td>4710.000000</td>\n",
       "      <td>561.000000</td>\n",
       "    </tr>\n",
       "    <tr>\n",
       "      <td>AWF</td>\n",
       "      <td>2.736675</td>\n",
       "      <td>2.692967</td>\n",
       "      <td>1.715596</td>\n",
       "    </tr>\n",
       "    <tr>\n",
       "      <td>gtAWF</td>\n",
       "      <td>268.000000</td>\n",
       "      <td>294.000000</td>\n",
       "      <td>73.000000</td>\n",
       "    </tr>\n",
       "    <tr>\n",
       "      <td>leAWF</td>\n",
       "      <td>1308.000000</td>\n",
       "      <td>1455.000000</td>\n",
       "      <td>254.000000</td>\n",
       "    </tr>\n",
       "    <tr>\n",
       "      <td>gtAWF%</td>\n",
       "      <td>17.005076</td>\n",
       "      <td>16.809605</td>\n",
       "      <td>22.324159</td>\n",
       "    </tr>\n",
       "    <tr>\n",
       "      <td>leAWF%</td>\n",
       "      <td>82.994924</td>\n",
       "      <td>83.190395</td>\n",
       "      <td>77.675841</td>\n",
       "    </tr>\n",
       "    <tr>\n",
       "      <td>AWW</td>\n",
       "      <td>0.000635</td>\n",
       "      <td>0.000572</td>\n",
       "      <td>0.003058</td>\n",
       "    </tr>\n",
       "    <tr>\n",
       "      <td>gtAWW</td>\n",
       "      <td>268.000000</td>\n",
       "      <td>294.000000</td>\n",
       "      <td>73.000000</td>\n",
       "    </tr>\n",
       "    <tr>\n",
       "      <td>leAWW</td>\n",
       "      <td>1308.000000</td>\n",
       "      <td>1455.000000</td>\n",
       "      <td>254.000000</td>\n",
       "    </tr>\n",
       "    <tr>\n",
       "      <td>gtAWW%</td>\n",
       "      <td>17.005076</td>\n",
       "      <td>16.809605</td>\n",
       "      <td>22.324159</td>\n",
       "    </tr>\n",
       "    <tr>\n",
       "      <td>leAWW%</td>\n",
       "      <td>82.994924</td>\n",
       "      <td>83.190395</td>\n",
       "      <td>77.675841</td>\n",
       "    </tr>\n",
       "  </tbody>\n",
       "</table>\n",
       "</div>"
      ],
      "text/plain": [
       "        The New Tech Culture Wars  Water Democracy  Design for a Green Future\n",
       "UWC                   1576.000000      1749.000000                 327.000000\n",
       "TWC                   4313.000000      4710.000000                 561.000000\n",
       "AWF                      2.736675         2.692967                   1.715596\n",
       "gtAWF                  268.000000       294.000000                  73.000000\n",
       "leAWF                 1308.000000      1455.000000                 254.000000\n",
       "gtAWF%                  17.005076        16.809605                  22.324159\n",
       "leAWF%                  82.994924        83.190395                  77.675841\n",
       "AWW                      0.000635         0.000572                   0.003058\n",
       "gtAWW                  268.000000       294.000000                  73.000000\n",
       "leAWW                 1308.000000      1455.000000                 254.000000\n",
       "gtAWW%                  17.005076        16.809605                  22.324159\n",
       "leAWW%                  82.994924        83.190395                  77.675841"
      ]
     },
     "execution_count": 319,
     "metadata": {},
     "output_type": "execute_result"
    }
   ],
   "source": [
    "article_stats"
   ]
  },
  {
   "cell_type": "markdown",
   "metadata": {},
   "source": [
    "The UWC is the number of unique words found within the text, which is equal to the number of entries in the article's DataFrame. The TWC, total word count, is equal to the sum across all values of the article's 'Frequency' column.  \n",
    "\n",
    "The AWF is the average word frequency, calculated if each word had equal weight. gtAWf, refers to the number of words that had a frequency of occurance higher than the average; leAWF refers to the number of words that occured less than or equal to the average word frequency. gtAWF% and leAWF%, refers to these numbers respectively as percentages in repsect to the number of unique words. \n",
    "\n",
    "The AWW, average word weight, is the weight of each unique word. gtAWW, refers to the number of words that have an overall weight higher than the average word weight; leAWW refers to the number of words that have an overall weight less than or equal to the average word weight. gtAWW% and leAWW%, refers to these numbers respectively as percentages in repsect to the number of unique words. "
   ]
  },
  {
   "cell_type": "markdown",
   "metadata": {},
   "source": [
    "#### Article One"
   ]
  },
  {
   "cell_type": "markdown",
   "metadata": {},
   "source": [
    "As one can see from the stats table, for article one: The New Tech Culture Wars, that the gtAWF = gtAWW, leAWF = leAWW, gtAWF% = gtAWW%, and leAWF% = leAWW%. This shows us that the weight of each word is balanced when the  frequency of each word is balanced."
   ]
  },
  {
   "cell_type": "markdown",
   "metadata": {},
   "source": [
    "This balance, is of course, not the case as can see that the data tends to lends itself to some curve as the frequency of words continuously decreases from the value of the highest word occurance to 1 and leveling off. "
   ]
  },
  {
   "cell_type": "markdown",
   "metadata": {},
   "source": [
    "From the AWW we can gather that if we were to reconstruct article one such that each word had equal weight, each word making up 0.000635 of the article, in terms of frequncy, each word would occur between two and three times. "
   ]
  },
  {
   "cell_type": "code",
   "execution_count": 320,
   "metadata": {},
   "outputs": [
    {
     "data": {
      "text/plain": [
       "0.6443310920472989"
      ]
     },
     "execution_count": 320,
     "metadata": {},
     "output_type": "execute_result"
    }
   ],
   "source": [
    "# The rank denoting the split between gtAWW/gtAWF & leAWW/leAWF\n",
    "stop_rank = int(article_stats.at['gtAWW', article1_title])\n",
    "\n",
    "# Calculates the Total weight of the words with a weight greater than the AWW\n",
    "gt_total_weight = article1_df['Overall Weight'][:stop_rank].sum()\n",
    "\n",
    "\n",
    "gt_total_weight"
   ]
  },
  {
   "cell_type": "markdown",
   "metadata": {},
   "source": [
    "This tells us that approximately 17.06% of the words make up 64.43% of the weight of the article."
   ]
  },
  {
   "cell_type": "code",
   "execution_count": 321,
   "metadata": {},
   "outputs": [
    {
     "data": {
      "text/plain": [
       "0.6443310920472989"
      ]
     },
     "execution_count": 321,
     "metadata": {},
     "output_type": "execute_result"
    }
   ],
   "source": [
    "article1_twc = int(article_stats.at['TWC', article1_title])\n",
    "\n",
    "# Calculates the Total Frequency of the words with a frequency greater than the AWF\n",
    "gt_total_frequency = article1_df['Frequency'][:stop_rank].sum()\n",
    "\n",
    "le_total_frequency = article1_df['Frequency'][stop_rank:].sum()\n",
    "\n",
    "gt_total_frequency / article1_twc"
   ]
  },
  {
   "cell_type": "markdown",
   "metadata": {},
   "source": [
    "We know that weight and frequency are interchangeable, proven above asthe numbers are the same. This tells us that 17.06% of the words also account for 64.43% of all the words written in the article. From this we can calculate that approximately 83% of the words used only account for roughly 35.57% of the words contained in the article. "
   ]
  },
  {
   "cell_type": "markdown",
   "metadata": {},
   "source": [
    "### Data Visualization"
   ]
  },
  {
   "cell_type": "markdown",
   "metadata": {},
   "source": [
    "An important step in the data science pipeline is data visualization. This step allows us to compare different data points and compare relations, allowing us to further analyze the data we have, possibly finding correlations. "
   ]
  },
  {
   "cell_type": "markdown",
   "metadata": {},
   "source": [
    "#### Imports"
   ]
  },
  {
   "cell_type": "code",
   "execution_count": 322,
   "metadata": {},
   "outputs": [],
   "source": [
    "import seaborn as sb\n",
    "import matplotlib.pyplot as plt\n",
    "import math as m"
   ]
  },
  {
   "cell_type": "markdown",
   "metadata": {},
   "source": [
    "Visualization 1: Rank(x) vs. Frequency(y) Scatter Plot\n",
    "\n",
    "The purpose of this scatter plot is to visually analyze the trend of Frequency in relation to Rank"
   ]
  },
  {
   "cell_type": "code",
   "execution_count": 325,
   "metadata": {
    "scrolled": true
   },
   "outputs": [
    {
     "data": {
      "image/png": "[encoded data removed]",
      "text/plain": [
       "<Figure size 1080x720 with 1 Axes>"
      ]
     },
     "metadata": {
      "needs_background": "light"
     },
     "output_type": "display_data"
    }
   ],
   "source": [
    "# Graphs the Rank vs. Frequency \n",
    "sb.scatterplot(x='Rank',y='Frequency',data=article1_df,hue='Frequency',palette='Paired',markers=True)\n",
    "\n",
    "# Creates a logdf DataFrame containing the x->y function y =  article1_max_frequecy / x\n",
    "x = range(1,len(article1_df),1)\n",
    "logdf = pd.DataFrame(data={'x': x})\n",
    "logdf['y'] = logdf['x'].apply(lambda x: article1_df['Frequency'][0]/x)\n",
    "\n",
    "# Graphs the logrithmic curve created above, transparently\n",
    "sb.lineplot(x='x',y='y',data=logdf, alpha=0.3)\n",
    "\n",
    "# Increases the plot size to 15 inches by 10 inches\n",
    "fig = plt.gcf()\n",
    "fig.set_size_inches(15, 10, forward=True)"
   ]
  },
  {
   "cell_type": "markdown",
   "metadata": {},
   "source": [
    "Here we have plotted the word rank versus the frequency. As we can see from the plot, the frequency relative to the rank follows an exponential decay curve, in accordance with Zipf's law. This means that higher ranking words are used exponentially more than lower ranking ones. "
   ]
  },
  {
   "cell_type": "code",
   "execution_count": null,
   "metadata": {},
   "outputs": [],
   "source": [
    "# Creates the loglog DataFrame for the Rank and Frequency values to be plotted on a loglog graph\n",
    "loglog_df = pd.DataFrame()\n",
    "loglog_df['Rank'] = article1_df['Rank'].apply(lambda x: m.log(x))\n",
    "loglog_df['Frequency'] = article1_df['Frequency'].apply(lambda x: m.log(x))\n",
    "\n",
    "# Graphs the the log of the rank vs the log of the frequency, also uses linear regression to predict the line of\n",
    "#  best fit\n",
    "sb.lmplot(x='Rank',y='Frequency',data=loglog_df)"
   ]
  },
  {
   "cell_type": "markdown",
   "metadata": {},
   "source": [
    "This plot again shows the word rank versus frequency. However, this time we plotted on a log scale, meaning we plotted the log rank versus the log frequency. According to Zipf's law, we should expect to see a significant linear trend, which we do.\n",
    "\n",
    "It is quite easy to see the trend of Zipf's Law in a graph such as this. As such, it has been used to model many other topics."
   ]
  },
  {
   "cell_type": "markdown",
   "metadata": {},
   "source": [
    "### Analysis (Hypothesis Creation)"
   ]
  },
  {
   "cell_type": "markdown",
   "metadata": {},
   "source": [
    "From all the data thus presented, we can see that a small portion of the word make up a large percent of the article and that the most frequent words don't usually have meaning inherent to itself.\n",
    "\n",
    "Our hypothesis is that we want to determine whether the least commonly used words are integral to understanding the concept. We want to look at the least commonly used words and see if they are associated with the main topic of the article. We want to analyze all the frequencies of the words to determine which frequencies matter more to the article compared to the other words."
   ]
  },
  {
   "cell_type": "markdown",
   "metadata": {},
   "source": [
    "### Insight & Policy Decision"
   ]
  },
  {
   "cell_type": "markdown",
   "metadata": {},
   "source": [
    "In our testing, we noticed that the least commonly used words were still important to the understanding of the article. This shows us that the least commonly used words were enough to get us an extremely broad summary. In furture analytics, studying exactly how much impact these words have could serve to better the way we translate information to one antoher."
   ]
  }
 ],
 "metadata": {
  "kernelspec": {
   "display_name": "Python 3",
   "language": "python",
   "name": "python3"
  },
  "language_info": {
   "codemirror_mode": {
    "name": "ipython",
    "version": 3
   },
   "file_extension": ".py",
   "mimetype": "text/x-python",
   "name": "python",
   "nbconvert_exporter": "python",
   "pygments_lexer": "ipython3",
   "version": "3.7.3"
  }
 },
 "nbformat": 4,
 "nbformat_minor": 2
}
